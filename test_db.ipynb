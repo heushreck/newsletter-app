{
 "cells": [
  {
   "cell_type": "code",
   "execution_count": 2,
   "metadata": {},
   "outputs": [],
   "source": [
    "from datetime import datetime, timedelta\n",
    "import sqlite3\n",
    "from modules.newsletter import Newsletter\n",
    "from utils.handle_db import insert_newsletter\n",
    "\n",
    "\n",
    "conn = sqlite3.connect(\"newsletter.db\")\n",
    "c = conn.cursor()"
   ]
  },
  {
   "cell_type": "markdown",
   "metadata": {},
   "source": [
    "# Update email from Company"
   ]
  },
  {
   "cell_type": "code",
   "execution_count": 5,
   "metadata": {},
   "outputs": [
    {
     "data": {
      "text/plain": [
       "<sqlite3.Cursor at 0x1058c3650>"
      ]
     },
     "execution_count": 5,
     "metadata": {},
     "output_type": "execute_result"
    }
   ],
   "source": [
    "\n",
    "# update the email from billabong\n",
    "new_mail = \"noreply@news.eu.billabong.com\"\n",
    "c.execute(f\"UPDATE companies SET email = '{new_mail}' WHERE name = 'Billabong'\")\n",
    "\n"
   ]
  },
  {
   "cell_type": "markdown",
   "metadata": {},
   "source": [
    "# See all companies"
   ]
  },
  {
   "cell_type": "code",
   "execution_count": 6,
   "metadata": {},
   "outputs": [
    {
     "name": "stdout",
     "output_type": "stream",
     "text": [
      "(432671639946621309, 'Vans', 'https://www.vans.de/', 'noreply@news.vans.com', 'https://www.pngmart.com/files/22/Vans-Logo-PNG-Photos.png', 'Vans is a renowned sportswear company based in the US, celebrated for its iconic footwear and apparel.')\n",
      "(-5952463555689350602, 'Quiksilver', 'https://www.quiksilver.de/', 'noreply@news.eu.quiksilver.com', 'https://brandslogos.com/wp-content/uploads/thumbs/quiksilver-logo-vector.svg', 'Quiksilver is a leading sportswear brand known for its surf-inspired designs and high-quality products.')\n",
      "(-8618577731588971212, 'Roxy', 'https://www.roxy-germany.de/', 'noreply@news.eu.roxy.com', 'https://logos-world.net/wp-content/uploads/2023/01/Roxy-Logo.png', \"Roxy, a subsidiary of Quiksilver, specializes in fashionable and performance-driven women's sportswear.\")\n",
      "(4855331521908342996, 'ONeal', 'https://www.oneal.eu/', 'newsflash@oneal-europe.com', 'https://cdn.oneal.eu/tmp/image-thumbnails/_default_upload_bucket/32953/image-thumb__32953__600x600/Rider_Logo%20schwarz.png', 'ONeal is a prominent player in the motocross apparel industry, offering innovative and durable products.')\n",
      "(-7909110764051298461, 'RipCurl', 'https://www.ripcurl.eu/', 'eu.customerservice@ripcurl.com', 'https://seeklogo.com/images/R/rip-curl-logo-48DC64B8A8-seeklogo.com.png', 'RipCurl is a globally recognized surfwear company with a strong commitment to the surfing community.')\n",
      "(-4397357736491833675, 'Volcom', 'https://www.volcom.de/', 'eu.newsletter@volcom.com', 'https://lezebre.lu/images/detailed/14/18604-volcom2-vetement-logo.png', 'Volcom is a lifestyle brand catering to skateboarding, snowboarding, and surfing enthusiasts worldwide.')\n",
      "(-5271364488439998633, 'Burton', 'https://www.burton.com/', 'email@eu.burton.com', 'https://seeklogo.com/images/B/burton-logo-9B7C50B28C-seeklogo.com.png', 'Burton is a trailblazing company in snowboarding equipment and apparel, dedicated to empowering snowboarders.')\n",
      "(-4789761268510871199, 'Billabong', 'https://www.billabong.de/', 'noreply@news.eu.billabong.com', 'https://assets.stickpng.com/images/5854640128fc2508128fec55.png', 'Billabong is an iconic surf brand that embodies the surfing lifestyle and resonates with customers worldwide.')\n",
      "(-1712757112744237515, 'Montec', 'https://www.montecwear.com/', 'hello@montecwear.com', 'https://www.skier.dk/wp-content/uploads/2020/01/Montec-sort.png', 'Montec is a rising name in the sportswear sector, known for its commitment to performance and style.')\n",
      "(-4087551284208092869, 'Dope', 'https://www.dopesnow.com/', 'hello@dopesnow.com', 'https://www.skier.dk/wp-content/uploads/2020/01/dope-sort.png', 'Dope is a fashion-forward brand known for its urban streetwear and accessories, embracing individuality and self-expression.')\n",
      "(3124876283815359105, 'New Balance', 'https://www.newbalance.de/', 'newbalance@email.newbalance.eu', 'https://cdn.freebiesupply.com/logos/large/2x/new-balance-2-logo-png-transparent.png', 'New Balance is a renowned sportswear company recognized for its high-quality athletic footwear and apparel.')\n",
      "(-6250612467506182720, 'Reebok', 'https://www.reebok.com/', 'reebok@em.reebok.com', 'https://1000logos.net/wp-content/uploads/2017/05/Reebok-logo.png', 'Reebok, a well-established brand, is synonymous with performance-driven athletic shoes and apparel.')\n",
      "(-8344944414098552564, 'Patagonia', 'https://www.patagonia.com/', 'funhogs@na.patagonia.com', 'https://1000logos.net/wp-content/uploads/2022/08/Patagonia-Emblem.png', 'Patagonia is a leading outdoor clothing company known for its sustainable and eco-friendly approach to sportswear.')\n",
      "(1560172803374793900, 'Under Armour', 'https://www.underarmour.de/', 'underarmour@em.underarmour.com', 'https://assets.stickpng.com/images/5842f037a6515b1e0ad75b12.png', 'Under Armour is a prominent sportswear brand, specializing in innovative and technologically advanced athletic apparel.')\n",
      "(35112245132635672, 'Lululemon', 'https://www.lululemon.de/', 'hello-emea@e.lululemon.com', 'https://www.pngmart.com/files/22/Lululemon-Logo-PNG-Picture.png', 'Lululemon is a top-tier company famous for its premium yoga-inspired athletic wear and lifestyle apparel.')\n"
     ]
    }
   ],
   "source": [
    "output = c.execute(\"SELECT * FROM companies;\")\n",
    "# print iun a nice way\n",
    "for row in output:\n",
    "    print(row)"
   ]
  }
 ],
 "metadata": {
  "kernelspec": {
   "display_name": "venv",
   "language": "python",
   "name": "python3"
  },
  "language_info": {
   "codemirror_mode": {
    "name": "ipython",
    "version": 3
   },
   "file_extension": ".py",
   "mimetype": "text/x-python",
   "name": "python",
   "nbconvert_exporter": "python",
   "pygments_lexer": "ipython3",
   "version": "3.9.16"
  },
  "orig_nbformat": 4
 },
 "nbformat": 4,
 "nbformat_minor": 2
}
